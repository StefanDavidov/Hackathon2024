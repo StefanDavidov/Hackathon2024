{
 "cells": [
  {
   "cell_type": "code",
   "execution_count": null,
   "metadata": {
    "pycharm": {
     "name": "#%%\n",
     "is_executing": true
    }
   },
   "outputs": [],
   "source": [
    "import statsmodels.api as sm\n",
    "import pandas as pd\n",
    "from patsy import dmatrices\n"
   ]
  },
  {
   "cell_type": "code",
   "execution_count": 46,
   "metadata": {
    "pycharm": {
     "name": "#%%\n"
    }
   },
   "outputs": [],
   "source": [
    "df = pd.read_csv('../data/edited_data.csv')"
   ]
  },
  {
   "cell_type": "markdown",
   "source": [],
   "metadata": {
    "collapsed": false,
    "pycharm": {
     "name": "#%% md\n"
    }
   }
  },
  {
   "cell_type": "markdown",
   "source": [],
   "metadata": {
    "collapsed": false,
    "pycharm": {
     "name": "#%% md\n"
    }
   }
  },
  {
   "cell_type": "markdown",
   "source": [],
   "metadata": {
    "collapsed": false,
    "pycharm": {
     "name": "#%% md\n"
    }
   }
  },
  {
   "cell_type": "code",
   "execution_count": null,
   "outputs": [],
   "source": [
    "companies = [\"INTC\",\"MSFT\", \"GOOGL\",\"AIZ\",\"DE\",\"AMZN\", \"AAPL\",\"TSLA\", \"NVDA\", \"TSMC\"]"
   ],
   "metadata": {
    "collapsed": false,
    "pycharm": {
     "name": "#%%\n"
    }
   }
  },
  {
   "cell_type": "code",
   "execution_count": 47,
   "metadata": {
    "pycharm": {
     "name": "#%%\n"
    }
   },
   "outputs": [
    {
     "name": "stdout",
     "output_type": "stream",
     "text": [
      "<class 'pandas.core.frame.DataFrame'>\n",
      "RangeIndex: 207416 entries, 0 to 207415\n",
      "Columns: 663 entries, Unnamed: 0 to GICS Sub-Industry_Wireless Telecommunication Services\n",
      "dtypes: bool(626), float64(36), int64(1)\n",
      "memory usage: 182.4 MB\n"
     ]
    }
   ],
   "source": [
    "df.info()"
   ]
  },
  {
   "cell_type": "code",
   "execution_count": 49,
   "metadata": {
    "pycharm": {
     "name": "#%%\n"
    }
   },
   "outputs": [],
   "source": [
    "features = df.drop('y', axis = 1)\n",
    "\n",
    "label = df['y']"
   ]
  },
  {
   "cell_type": "code",
   "execution_count": 85,
   "metadata": {
    "pycharm": {
     "name": "#%%\n"
    }
   },
   "outputs": [],
   "source": [
    "import numpy\n",
    "features = numpy.array(features)"
   ]
  },
  {
   "cell_type": "code",
   "execution_count": 86,
   "metadata": {
    "pycharm": {
     "name": "#%%\n"
    }
   },
   "outputs": [],
   "source": [
    "df = df.iloc[:,1:]"
   ]
  },
  {
   "cell_type": "code",
   "execution_count": 87,
   "metadata": {
    "pycharm": {
     "name": "#%%\n"
    }
   },
   "outputs": [
    {
     "data": {
      "text/plain": [
       "'y ~ Volume + News__Volume + News__Positive_Sentiment + News__Negative_Sentiment + News__New_Products + News__Layoffs + News__Analyst_Comments + News__Stocks + News__Dividends + News__Corporate_Earnings + News__Mergers__Acquisitions + News__Store_Openings + News__Product_Recalls + News__Adverse_Events + News__Personnel_Changes + News__Stock_Rumors + Open1 + Volume1 + News__Volume1 + News__Positive_Sentiment1 + News__Negative_Sentiment1 + News__New_Products1 + News__Layoffs1 + News__Analyst_Comments1 + News__Stocks1 + News__Dividends1 + News__Corporate_Earnings1 + News__Mergers__Acquisitions1 + News__Store_Openings1 + News__Product_Recalls1 + News__Adverse_Events1 + News__Personnel_Changes1 + News__Stock_Rumors1 + y1 + Symbol_A + Symbol_AAL + Symbol_AAP + Symbol_AAPL + Symbol_ABBV + Symbol_ABC + Symbol_ABMD + Symbol_ABT + Symbol_ACN + Symbol_ADBE + Symbol_ADI + Symbol_ADM + Symbol_ADP + Symbol_ADSK + Symbol_AEE + Symbol_AEP + Symbol_AES + Symbol_AFL + Symbol_AIG + Symbol_AIZ + Symbol_AJG + Symbol_AKAM + Symbol_ALB + Symbol_ALGN + Symbol_ALK + Symbol_ALL + Symbol_ALLE + Symbol_AMAT + Symbol_AMCR + Symbol_AMD + Symbol_AME + Symbol_AMGN + Symbol_AMP + Symbol_AMT + Symbol_AMZN + Symbol_ANET + Symbol_ANSS + Symbol_AON + Symbol_AOS + Symbol_APA + Symbol_APD + Symbol_APH + Symbol_APTV + Symbol_ARE + Symbol_ATO + Symbol_ATVI + Symbol_AVB + Symbol_AVGO + Symbol_AVY + Symbol_AWK + Symbol_AXP + Symbol_AZO + Symbol_BA + Symbol_BAC + Symbol_BAX + Symbol_BBWI + Symbol_BBY + Symbol_BDX + Symbol_BEN + Symbol_BIIB + Symbol_BIO + Symbol_BK + Symbol_BKNG + Symbol_BKR + Symbol_BLK + Symbol_BMY + Symbol_BR + Symbol_BSX + Symbol_BWA + Symbol_BXP + Symbol_C + Symbol_CAG + Symbol_CAH + Symbol_CARR + Symbol_CAT + Symbol_CB + Symbol_CBOE + Symbol_CBRE + Symbol_CCI + Symbol_CCL + Symbol_CDAY + Symbol_CDNS + Symbol_CDW + Symbol_CE + Symbol_CEG + Symbol_CF + Symbol_CFG + Symbol_CHD + Symbol_CHRW + Symbol_CHTR + Symbol_CI + Symbol_CINF + Symbol_CL + Symbol_CLX + Symbol_CMA + Symbol_CMCSA + Symbol_CME + Symbol_CMG + Symbol_CMI + Symbol_CMS + Symbol_CNC + Symbol_CNP + Symbol_COF + Symbol_COO + Symbol_COP + Symbol_COST + Symbol_CPB + Symbol_CPRT + Symbol_CPT + Symbol_CRL + Symbol_CRM + Symbol_CSCO + Symbol_CSX + Symbol_CTAS + Symbol_CTLT + Symbol_CTRA + Symbol_CTSH + Symbol_CTVA + Symbol_CTXS + Symbol_CVS + Symbol_CVX + Symbol_CZR + Symbol_D + Symbol_DAL + Symbol_DD + Symbol_DE + Symbol_DFS + Symbol_DG + Symbol_DGX + Symbol_DHI + Symbol_DHR + Symbol_DIS + Symbol_DISH + Symbol_DLR + Symbol_DLTR + Symbol_DOV + Symbol_DOW + Symbol_DPZ + Symbol_DRE + Symbol_DRI + Symbol_DTE + Symbol_DUK + Symbol_DVA + Symbol_DVN + Symbol_DXC + Symbol_DXCM + Symbol_EA + Symbol_EBAY + Symbol_ECL + Symbol_ED + Symbol_EFX + Symbol_EIX + Symbol_EL + Symbol_ELV + Symbol_EMN + Symbol_EMR + Symbol_ENPH + Symbol_EOG + Symbol_EPAM + Symbol_EQIX + Symbol_EQR + Symbol_ES + Symbol_ESS + Symbol_ETN + Symbol_ETR + Symbol_ETSY + Symbol_EVRG + Symbol_EW + Symbol_EXC + Symbol_EXPD + Symbol_EXPE + Symbol_EXR + Symbol_F + Symbol_FANG + Symbol_FAST + Symbol_FBHS + Symbol_FCX + Symbol_FDS + Symbol_FDX + Symbol_FE + Symbol_FFIV + Symbol_FIS + Symbol_FISV + Symbol_FITB + Symbol_FLT + Symbol_FMC + Symbol_FOX + Symbol_FOXA + Symbol_FRC + Symbol_FRT + Symbol_FTNT + Symbol_FTV + Symbol_GD + Symbol_GE + Symbol_GILD + Symbol_GIS + Symbol_GL + Symbol_GLW + Symbol_GM + Symbol_GNRC + Symbol_GOOG + Symbol_GOOGL + Symbol_GPC + Symbol_GPN + Symbol_GRMN + Symbol_GS + Symbol_GWW + Symbol_HAL + Symbol_HAS + Symbol_HBAN + Symbol_HCA + Symbol_HD + Symbol_HES + Symbol_HIG + Symbol_HII + Symbol_HLT + Symbol_HOLX + Symbol_HON + Symbol_HPE + Symbol_HPQ + Symbol_HRL + Symbol_HSIC + Symbol_HST + Symbol_HSY + Symbol_HUM + Symbol_HWM + Symbol_IBM + Symbol_ICE + Symbol_IDXX + Symbol_IEX + Symbol_IFF + Symbol_ILMN + Symbol_INCY + Symbol_INTC + Symbol_INTU + Symbol_IP + Symbol_IPG + Symbol_IQV + Symbol_IR + Symbol_IRM + Symbol_ISRG + Symbol_IT + Symbol_ITW + Symbol_IVZ + Symbol_J + Symbol_JBHT + Symbol_JCI + Symbol_JKHY + Symbol_JNJ + Symbol_JNPR + Symbol_JPM + Symbol_K + Symbol_KEY + Symbol_KEYS + Symbol_KHC + Symbol_KIM + Symbol_KLAC + Symbol_KMB + Symbol_KMI + Symbol_KMX + Symbol_KO + Symbol_KR + Symbol_L + Symbol_LDOS + Symbol_LEN + Symbol_LH + Symbol_LHX + Symbol_LIN + Symbol_LKQ + Symbol_LLY + Symbol_LMT + Symbol_LNC + Symbol_LNT + Symbol_LOW + Symbol_LRCX + Symbol_LUMN + Symbol_LUV + Symbol_LVS + Symbol_LW + Symbol_LYB + Symbol_LYV + Symbol_MA + Symbol_MAA + Symbol_MAR + Symbol_MAS + Symbol_MCD + Symbol_MCHP + Symbol_MCK + Symbol_MCO + Symbol_MDLZ + Symbol_MDT + Symbol_MET + Symbol_META + Symbol_MGM + Symbol_MHK + Symbol_MKC + Symbol_MKTX + Symbol_MLM + Symbol_MMC + Symbol_MMM + Symbol_MNST + Symbol_MO + Symbol_MOH + Symbol_MOS + Symbol_MPC + Symbol_MPWR + Symbol_MRK + Symbol_MRNA + Symbol_MRO + Symbol_MS + Symbol_MSCI + Symbol_MSFT + Symbol_MSI + Symbol_MTB + Symbol_MTD + Symbol_MU + Symbol_NCLH + Symbol_NDAQ + Symbol_NDSN + Symbol_NEE + Symbol_NEM + Symbol_NFLX + Symbol_NI + Symbol_NKE + Symbol_NLOK + Symbol_NLSN + Symbol_NOC + Symbol_NOW + Symbol_NRG + Symbol_NSC + Symbol_NTAP + Symbol_NTRS + Symbol_NUE + Symbol_NVDA + Symbol_NVR + Symbol_NWL + Symbol_NWS + Symbol_NWSA + Symbol_NXPI + Symbol_O + Symbol_ODFL + Symbol_OGN + Symbol_OKE + Symbol_OMC + Symbol_ON + Symbol_ORCL + Symbol_ORLY + Symbol_OTIS + Symbol_OXY + Symbol_PARA + Symbol_PAYC + Symbol_PAYX + Symbol_PCAR + Symbol_PEAK + Symbol_PEG + Symbol_PENN + Symbol_PEP + Symbol_PFE + Symbol_PFG + Symbol_PG + Symbol_PGR + Symbol_PH + Symbol_PHM + Symbol_PKG + Symbol_PKI + Symbol_PLD + Symbol_PM + Symbol_PNC + Symbol_PNR + Symbol_PNW + Symbol_POOL + Symbol_PPG + Symbol_PPL + Symbol_PRU + Symbol_PSA + Symbol_PSX + Symbol_PTC + Symbol_PVH + Symbol_PWR + Symbol_PXD + Symbol_PYPL + Symbol_QCOM + Symbol_QRVO + Symbol_RCL + Symbol_RE + Symbol_REG + Symbol_REGN + Symbol_RF + Symbol_RHI + Symbol_RJF + Symbol_RL + Symbol_RMD + Symbol_ROK + Symbol_ROL + Symbol_ROP + Symbol_ROST + Symbol_RSG + Symbol_RTX + Symbol_SBAC + Symbol_SBNY + Symbol_SBUX + Symbol_SCHW + Symbol_SEDG + Symbol_SEE + Symbol_SHW + Symbol_SIVB + Symbol_SJM + Symbol_SLB + Symbol_SNA + Symbol_SNPS + Symbol_SO + Symbol_SPG + Symbol_SPGI + Symbol_SRE + Symbol_STE + Symbol_STT + Symbol_STX + Symbol_STZ + Symbol_SWK + Symbol_SWKS + Symbol_SYF + Symbol_SYK + Symbol_SYY + Symbol_T + Symbol_TAP + Symbol_TDG + Symbol_TDY + Symbol_TECH + Symbol_TEL + Symbol_TER + Symbol_TFC + Symbol_TFX + Symbol_TGT + Symbol_TJX + Symbol_TMO + Symbol_TMUS + Symbol_TPR + Symbol_TRMB + Symbol_TROW + Symbol_TRV + Symbol_TSCO + Symbol_TSLA + Symbol_TSN + Symbol_TT + Symbol_TTWO + Symbol_TWTR + Symbol_TXN + Symbol_TXT + Symbol_TYL + Symbol_UAL + Symbol_UDR + Symbol_UHS + Symbol_ULTA + Symbol_UNH + Symbol_UNP + Symbol_UPS + Symbol_URI + Symbol_USB + Symbol_V + Symbol_VFC + Symbol_VLO + Symbol_VMC + Symbol_VNO + Symbol_VRSK + Symbol_VRSN + Symbol_VRTX + Symbol_VTR + Symbol_VTRS + Symbol_VZ + Symbol_WAB + Symbol_WAT + Symbol_WBA + Symbol_WBD + Symbol_WDC + Symbol_WEC + Symbol_WELL + Symbol_WFC + Symbol_WHR + Symbol_WM + Symbol_WMB + Symbol_WMT + Symbol_WRB + Symbol_WRK + Symbol_WST + Symbol_WY + Symbol_WYNN + Symbol_XEL + Symbol_XOM + Symbol_XRAY + Symbol_XYL + Symbol_YUM + Symbol_ZBH + Symbol_ZBRA + Symbol_ZION + Symbol_ZTS + GICS_Sector_Communication_Services + GICS_Sector_Consumer_Discretionary + GICS_Sector_Consumer_Staples + GICS_Sector_Energy + GICS_Sector_Financials + GICS_Sector_Health_Care + GICS_Sector_Industrials + GICS_Sector_Information_Technology + GICS_Sector_Materials + GICS_Sector_Real_Estate + GICS_Sector_Utilities + GICS_SubIndustry_Advertising + GICS_SubIndustry_Aerospace__Defense + GICS_SubIndustry_Agricultural__Farm_Machinery + GICS_SubIndustry_Agricultural_Products + GICS_SubIndustry_Air_Freight__Logistics + GICS_SubIndustry_Airlines + GICS_SubIndustry_Alternative_Carriers + GICS_SubIndustry_Apparel_Retail + GICS_SubIndustry_Apparel_Accessories__Luxury_Goods + GICS_SubIndustry_Application_Software + GICS_SubIndustry_Asset_Management__Custody_Banks + GICS_SubIndustry_Auto_Parts__Equipment + GICS_SubIndustry_Automobile_Manufacturers + GICS_SubIndustry_Automotive_Retail + GICS_SubIndustry_Biotechnology + GICS_SubIndustry_Brewers + GICS_SubIndustry_Broadcasting + GICS_SubIndustry_Building_Products + GICS_SubIndustry_Cable__Satellite + GICS_SubIndustry_Casinos__Gaming + GICS_SubIndustry_Commodity_Chemicals + GICS_SubIndustry_Communications_Equipment + GICS_SubIndustry_Computer__Electronics_Retail + GICS_SubIndustry_Construction__Engineering + GICS_SubIndustry_Construction_Machinery__Heavy_Trucks + GICS_SubIndustry_Construction_Materials + GICS_SubIndustry_Consumer_Electronics + GICS_SubIndustry_Consumer_Finance + GICS_SubIndustry_Copper + GICS_SubIndustry_Data_Processing__Outsourced_Services + GICS_SubIndustry_Distillers__Vintners + GICS_SubIndustry_Distributors + GICS_SubIndustry_Diversified_Banks + GICS_SubIndustry_Diversified_Chemicals + GICS_SubIndustry_Diversified_Support_Services + GICS_SubIndustry_Drug_Retail + GICS_SubIndustry_Electric_Utilities + GICS_SubIndustry_Electrical_Components__Equipment + GICS_SubIndustry_Electronic_Components + GICS_SubIndustry_Electronic_Equipment__Instruments + GICS_SubIndustry_Electronic_Manufacturing_Services + GICS_SubIndustry_Environmental__Facilities_Services + GICS_SubIndustry_Fertilizers__Agricultural_Chemicals + GICS_SubIndustry_Financial_Exchanges__Data + GICS_SubIndustry_Food_Distributors + GICS_SubIndustry_Food_Retail + GICS_SubIndustry_Gas_Utilities + GICS_SubIndustry_General_Merchandise_Stores + GICS_SubIndustry_Gold + GICS_SubIndustry_Health_Care_Distributors + GICS_SubIndustry_Health_Care_Equipment + GICS_SubIndustry_Health_Care_Facilities + GICS_SubIndustry_Health_Care_REITs + GICS_SubIndustry_Health_Care_Services + GICS_SubIndustry_Health_Care_Supplies + GICS_SubIndustry_Home_Furnishings + GICS_SubIndustry_Home_Improvement_Retail + GICS_SubIndustry_Homebuilding + GICS_SubIndustry_Hotel__Resort_REITs + GICS_SubIndustry_Hotels_Resorts__Cruise_Lines + GICS_SubIndustry_Household_Appliances + GICS_SubIndustry_Household_Products + GICS_SubIndustry_Housewares__Specialties + GICS_SubIndustry_Human_Resource__Employment_Services + GICS_SubIndustry_Hypermarkets__Super_Centers + GICS_SubIndustry_IT_Consulting__Other_Services + GICS_SubIndustry_Independent_Power_Producers__Energy_Traders + GICS_SubIndustry_Industrial_Conglomerates + GICS_SubIndustry_Industrial_Gases + GICS_SubIndustry_Industrial_Machinery + GICS_SubIndustry_Industrial_REITs + GICS_SubIndustry_Insurance_Brokers + GICS_SubIndustry_Integrated_Oil__Gas + GICS_SubIndustry_Integrated_Telecommunication_Services + GICS_SubIndustry_Interactive_Home_Entertainment + GICS_SubIndustry_Interactive_Media__Services + GICS_SubIndustry_Internet__Direct_Marketing_Retail + GICS_SubIndustry_Internet_Services__Infrastructure + GICS_SubIndustry_Investment_Banking__Brokerage + GICS_SubIndustry_Leisure_Products + GICS_SubIndustry_Life__Health_Insurance + GICS_SubIndustry_Life_Sciences_Tools__Services + GICS_SubIndustry_Managed_Health_Care + GICS_SubIndustry_Movies__Entertainment + GICS_SubIndustry_MultiUtilities + GICS_SubIndustry_Multiline_Insurance + GICS_SubIndustry_Office_REITs + GICS_SubIndustry_Oil__Gas_Equipment__Services + GICS_SubIndustry_Oil__Gas_Exploration__Production + GICS_SubIndustry_Oil__Gas_Refining__Marketing + GICS_SubIndustry_Oil__Gas_Storage__Transportation + GICS_SubIndustry_Packaged_Foods__Meats + GICS_SubIndustry_Paper_Packaging + GICS_SubIndustry_Personal_Products + GICS_SubIndustry_Pharmaceuticals + GICS_SubIndustry_Property__Casualty_Insurance + GICS_SubIndustry_Publishing + GICS_SubIndustry_Railroads + GICS_SubIndustry_Real_Estate_Services + GICS_SubIndustry_Regional_Banks + GICS_SubIndustry_Reinsurance + GICS_SubIndustry_Research__Consulting_Services + GICS_SubIndustry_Residential_REITs + GICS_SubIndustry_Restaurants + GICS_SubIndustry_Retail_REITs + GICS_SubIndustry_Semiconductor_Equipment + GICS_SubIndustry_Semiconductors + GICS_SubIndustry_Soft_Drinks + GICS_SubIndustry_Specialized_REITs + GICS_SubIndustry_Specialty_Chemicals + GICS_SubIndustry_Specialty_Stores + GICS_SubIndustry_Steel + GICS_SubIndustry_Systems_Software + GICS_SubIndustry_Technology_Distributors + GICS_SubIndustry_Technology_Hardware_Storage__Peripherals + GICS_SubIndustry_Tobacco + GICS_SubIndustry_Trading_Companies__Distributors + GICS_SubIndustry_Trucking + GICS_SubIndustry_Water_Utilities + GICS_SubIndustry_Wireless_Telecommunication_Services'"
      ]
     },
     "execution_count": 87,
     "metadata": {},
     "output_type": "execute_result"
    }
   ],
   "source": [
    "df.columns = df.columns.str.replace(\" \", \"_\")\n",
    "df.columns = df.columns.str.replace(\"-\", \"\")\n",
    "df.columns = df.columns.str.replace(\"&\",\"\")\n",
    "df.columns = df.columns.str.replace(\".\",\"\")\n",
    "df.columns = df.columns.str.replace(\",\",\"\")\n",
    "column_names = list(df.columns.values)\n",
    "column_names.remove('y')\n",
    "strColumnNames = ' + '.join(column_names)\n",
    "strColumnNames = 'y ~ ' + strColumnNames\n",
    "strColumnNames"
   ]
  },
  {
   "cell_type": "code",
   "execution_count": 88,
   "metadata": {
    "pycharm": {
     "name": "#%%\n"
    }
   },
   "outputs": [],
   "source": [
    "y, X = dmatrices(strColumnNames, data=df, return_type='dataframe')"
   ]
  },
  {
   "cell_type": "code",
   "execution_count": 89,
   "metadata": {
    "pycharm": {
     "name": "#%%\n"
    }
   },
   "outputs": [
    {
     "data": {
      "text/html": [
       "<div>\n",
       "<style scoped>\n",
       "    .dataframe tbody tr th:only-of-type {\n",
       "        vertical-align: middle;\n",
       "    }\n",
       "\n",
       "    .dataframe tbody tr th {\n",
       "        vertical-align: top;\n",
       "    }\n",
       "\n",
       "    .dataframe thead th {\n",
       "        text-align: right;\n",
       "    }\n",
       "</style>\n",
       "<table border=\"1\" class=\"dataframe\">\n",
       "  <thead>\n",
       "    <tr style=\"text-align: right;\">\n",
       "      <th></th>\n",
       "      <th>Intercept</th>\n",
       "      <th>Symbol_A[T.True]</th>\n",
       "      <th>Symbol_AAL[T.True]</th>\n",
       "      <th>Symbol_AAP[T.True]</th>\n",
       "      <th>Symbol_AAPL[T.True]</th>\n",
       "      <th>Symbol_ABBV[T.True]</th>\n",
       "      <th>Symbol_ABC[T.True]</th>\n",
       "      <th>Symbol_ABMD[T.True]</th>\n",
       "      <th>Symbol_ABT[T.True]</th>\n",
       "      <th>Symbol_ACN[T.True]</th>\n",
       "      <th>...</th>\n",
       "      <th>News__Stocks1</th>\n",
       "      <th>News__Dividends1</th>\n",
       "      <th>News__Corporate_Earnings1</th>\n",
       "      <th>News__Mergers__Acquisitions1</th>\n",
       "      <th>News__Store_Openings1</th>\n",
       "      <th>News__Product_Recalls1</th>\n",
       "      <th>News__Adverse_Events1</th>\n",
       "      <th>News__Personnel_Changes1</th>\n",
       "      <th>News__Stock_Rumors1</th>\n",
       "      <th>y1</th>\n",
       "    </tr>\n",
       "  </thead>\n",
       "  <tbody>\n",
       "    <tr>\n",
       "      <th>0</th>\n",
       "      <td>1.0</td>\n",
       "      <td>0.0</td>\n",
       "      <td>0.0</td>\n",
       "      <td>0.0</td>\n",
       "      <td>0.0</td>\n",
       "      <td>0.0</td>\n",
       "      <td>0.0</td>\n",
       "      <td>0.0</td>\n",
       "      <td>0.0</td>\n",
       "      <td>0.0</td>\n",
       "      <td>...</td>\n",
       "      <td>4.0</td>\n",
       "      <td>0.0</td>\n",
       "      <td>0.0</td>\n",
       "      <td>0.0</td>\n",
       "      <td>0.0</td>\n",
       "      <td>0.0</td>\n",
       "      <td>0.0</td>\n",
       "      <td>0.0</td>\n",
       "      <td>0.0</td>\n",
       "      <td>-0.015933</td>\n",
       "    </tr>\n",
       "    <tr>\n",
       "      <th>1</th>\n",
       "      <td>1.0</td>\n",
       "      <td>0.0</td>\n",
       "      <td>0.0</td>\n",
       "      <td>0.0</td>\n",
       "      <td>0.0</td>\n",
       "      <td>0.0</td>\n",
       "      <td>0.0</td>\n",
       "      <td>0.0</td>\n",
       "      <td>0.0</td>\n",
       "      <td>0.0</td>\n",
       "      <td>...</td>\n",
       "      <td>2.0</td>\n",
       "      <td>0.0</td>\n",
       "      <td>2.0</td>\n",
       "      <td>1.0</td>\n",
       "      <td>0.0</td>\n",
       "      <td>0.0</td>\n",
       "      <td>1.0</td>\n",
       "      <td>0.0</td>\n",
       "      <td>0.0</td>\n",
       "      <td>0.011887</td>\n",
       "    </tr>\n",
       "    <tr>\n",
       "      <th>2</th>\n",
       "      <td>1.0</td>\n",
       "      <td>0.0</td>\n",
       "      <td>0.0</td>\n",
       "      <td>0.0</td>\n",
       "      <td>0.0</td>\n",
       "      <td>0.0</td>\n",
       "      <td>0.0</td>\n",
       "      <td>0.0</td>\n",
       "      <td>0.0</td>\n",
       "      <td>0.0</td>\n",
       "      <td>...</td>\n",
       "      <td>2.0</td>\n",
       "      <td>0.0</td>\n",
       "      <td>0.0</td>\n",
       "      <td>2.0</td>\n",
       "      <td>0.0</td>\n",
       "      <td>0.0</td>\n",
       "      <td>0.0</td>\n",
       "      <td>1.0</td>\n",
       "      <td>0.0</td>\n",
       "      <td>-0.000370</td>\n",
       "    </tr>\n",
       "    <tr>\n",
       "      <th>3</th>\n",
       "      <td>1.0</td>\n",
       "      <td>0.0</td>\n",
       "      <td>0.0</td>\n",
       "      <td>0.0</td>\n",
       "      <td>0.0</td>\n",
       "      <td>0.0</td>\n",
       "      <td>0.0</td>\n",
       "      <td>0.0</td>\n",
       "      <td>0.0</td>\n",
       "      <td>0.0</td>\n",
       "      <td>...</td>\n",
       "      <td>3.0</td>\n",
       "      <td>0.0</td>\n",
       "      <td>0.0</td>\n",
       "      <td>3.0</td>\n",
       "      <td>0.0</td>\n",
       "      <td>0.0</td>\n",
       "      <td>3.0</td>\n",
       "      <td>0.0</td>\n",
       "      <td>0.0</td>\n",
       "      <td>0.008688</td>\n",
       "    </tr>\n",
       "    <tr>\n",
       "      <th>4</th>\n",
       "      <td>1.0</td>\n",
       "      <td>0.0</td>\n",
       "      <td>0.0</td>\n",
       "      <td>0.0</td>\n",
       "      <td>0.0</td>\n",
       "      <td>0.0</td>\n",
       "      <td>0.0</td>\n",
       "      <td>0.0</td>\n",
       "      <td>0.0</td>\n",
       "      <td>0.0</td>\n",
       "      <td>...</td>\n",
       "      <td>17.0</td>\n",
       "      <td>0.0</td>\n",
       "      <td>0.0</td>\n",
       "      <td>1.0</td>\n",
       "      <td>0.0</td>\n",
       "      <td>0.0</td>\n",
       "      <td>0.0</td>\n",
       "      <td>0.0</td>\n",
       "      <td>0.0</td>\n",
       "      <td>-0.014234</td>\n",
       "    </tr>\n",
       "    <tr>\n",
       "      <th>...</th>\n",
       "      <td>...</td>\n",
       "      <td>...</td>\n",
       "      <td>...</td>\n",
       "      <td>...</td>\n",
       "      <td>...</td>\n",
       "      <td>...</td>\n",
       "      <td>...</td>\n",
       "      <td>...</td>\n",
       "      <td>...</td>\n",
       "      <td>...</td>\n",
       "      <td>...</td>\n",
       "      <td>...</td>\n",
       "      <td>...</td>\n",
       "      <td>...</td>\n",
       "      <td>...</td>\n",
       "      <td>...</td>\n",
       "      <td>...</td>\n",
       "      <td>...</td>\n",
       "      <td>...</td>\n",
       "      <td>...</td>\n",
       "      <td>...</td>\n",
       "    </tr>\n",
       "    <tr>\n",
       "      <th>207411</th>\n",
       "      <td>1.0</td>\n",
       "      <td>0.0</td>\n",
       "      <td>0.0</td>\n",
       "      <td>0.0</td>\n",
       "      <td>0.0</td>\n",
       "      <td>0.0</td>\n",
       "      <td>0.0</td>\n",
       "      <td>0.0</td>\n",
       "      <td>0.0</td>\n",
       "      <td>0.0</td>\n",
       "      <td>...</td>\n",
       "      <td>2.0</td>\n",
       "      <td>0.0</td>\n",
       "      <td>0.0</td>\n",
       "      <td>0.0</td>\n",
       "      <td>0.0</td>\n",
       "      <td>0.0</td>\n",
       "      <td>2.0</td>\n",
       "      <td>0.0</td>\n",
       "      <td>0.0</td>\n",
       "      <td>0.058787</td>\n",
       "    </tr>\n",
       "    <tr>\n",
       "      <th>207412</th>\n",
       "      <td>1.0</td>\n",
       "      <td>0.0</td>\n",
       "      <td>0.0</td>\n",
       "      <td>0.0</td>\n",
       "      <td>0.0</td>\n",
       "      <td>0.0</td>\n",
       "      <td>0.0</td>\n",
       "      <td>0.0</td>\n",
       "      <td>0.0</td>\n",
       "      <td>0.0</td>\n",
       "      <td>...</td>\n",
       "      <td>3.0</td>\n",
       "      <td>0.0</td>\n",
       "      <td>1.0</td>\n",
       "      <td>0.0</td>\n",
       "      <td>0.0</td>\n",
       "      <td>0.0</td>\n",
       "      <td>0.0</td>\n",
       "      <td>0.0</td>\n",
       "      <td>0.0</td>\n",
       "      <td>0.061100</td>\n",
       "    </tr>\n",
       "    <tr>\n",
       "      <th>207413</th>\n",
       "      <td>1.0</td>\n",
       "      <td>0.0</td>\n",
       "      <td>0.0</td>\n",
       "      <td>0.0</td>\n",
       "      <td>0.0</td>\n",
       "      <td>0.0</td>\n",
       "      <td>0.0</td>\n",
       "      <td>0.0</td>\n",
       "      <td>0.0</td>\n",
       "      <td>0.0</td>\n",
       "      <td>...</td>\n",
       "      <td>0.0</td>\n",
       "      <td>0.0</td>\n",
       "      <td>0.0</td>\n",
       "      <td>0.0</td>\n",
       "      <td>0.0</td>\n",
       "      <td>0.0</td>\n",
       "      <td>0.0</td>\n",
       "      <td>0.0</td>\n",
       "      <td>0.0</td>\n",
       "      <td>0.034883</td>\n",
       "    </tr>\n",
       "    <tr>\n",
       "      <th>207414</th>\n",
       "      <td>1.0</td>\n",
       "      <td>0.0</td>\n",
       "      <td>0.0</td>\n",
       "      <td>0.0</td>\n",
       "      <td>0.0</td>\n",
       "      <td>0.0</td>\n",
       "      <td>0.0</td>\n",
       "      <td>0.0</td>\n",
       "      <td>0.0</td>\n",
       "      <td>0.0</td>\n",
       "      <td>...</td>\n",
       "      <td>1.0</td>\n",
       "      <td>0.0</td>\n",
       "      <td>0.0</td>\n",
       "      <td>0.0</td>\n",
       "      <td>0.0</td>\n",
       "      <td>0.0</td>\n",
       "      <td>0.0</td>\n",
       "      <td>0.0</td>\n",
       "      <td>0.0</td>\n",
       "      <td>0.007734</td>\n",
       "    </tr>\n",
       "    <tr>\n",
       "      <th>207415</th>\n",
       "      <td>1.0</td>\n",
       "      <td>0.0</td>\n",
       "      <td>0.0</td>\n",
       "      <td>0.0</td>\n",
       "      <td>0.0</td>\n",
       "      <td>0.0</td>\n",
       "      <td>0.0</td>\n",
       "      <td>0.0</td>\n",
       "      <td>0.0</td>\n",
       "      <td>0.0</td>\n",
       "      <td>...</td>\n",
       "      <td>1.0</td>\n",
       "      <td>0.0</td>\n",
       "      <td>0.0</td>\n",
       "      <td>0.0</td>\n",
       "      <td>0.0</td>\n",
       "      <td>0.0</td>\n",
       "      <td>1.0</td>\n",
       "      <td>0.0</td>\n",
       "      <td>0.0</td>\n",
       "      <td>0.009188</td>\n",
       "    </tr>\n",
       "  </tbody>\n",
       "</table>\n",
       "<p>207416 rows × 661 columns</p>\n",
       "</div>"
      ],
      "text/plain": [
       "        Intercept  Symbol_A[T.True]  Symbol_AAL[T.True]  Symbol_AAP[T.True]  \\\n",
       "0             1.0               0.0                 0.0                 0.0   \n",
       "1             1.0               0.0                 0.0                 0.0   \n",
       "2             1.0               0.0                 0.0                 0.0   \n",
       "3             1.0               0.0                 0.0                 0.0   \n",
       "4             1.0               0.0                 0.0                 0.0   \n",
       "...           ...               ...                 ...                 ...   \n",
       "207411        1.0               0.0                 0.0                 0.0   \n",
       "207412        1.0               0.0                 0.0                 0.0   \n",
       "207413        1.0               0.0                 0.0                 0.0   \n",
       "207414        1.0               0.0                 0.0                 0.0   \n",
       "207415        1.0               0.0                 0.0                 0.0   \n",
       "\n",
       "        Symbol_AAPL[T.True]  Symbol_ABBV[T.True]  Symbol_ABC[T.True]  \\\n",
       "0                       0.0                  0.0                 0.0   \n",
       "1                       0.0                  0.0                 0.0   \n",
       "2                       0.0                  0.0                 0.0   \n",
       "3                       0.0                  0.0                 0.0   \n",
       "4                       0.0                  0.0                 0.0   \n",
       "...                     ...                  ...                 ...   \n",
       "207411                  0.0                  0.0                 0.0   \n",
       "207412                  0.0                  0.0                 0.0   \n",
       "207413                  0.0                  0.0                 0.0   \n",
       "207414                  0.0                  0.0                 0.0   \n",
       "207415                  0.0                  0.0                 0.0   \n",
       "\n",
       "        Symbol_ABMD[T.True]  Symbol_ABT[T.True]  Symbol_ACN[T.True]  ...  \\\n",
       "0                       0.0                 0.0                 0.0  ...   \n",
       "1                       0.0                 0.0                 0.0  ...   \n",
       "2                       0.0                 0.0                 0.0  ...   \n",
       "3                       0.0                 0.0                 0.0  ...   \n",
       "4                       0.0                 0.0                 0.0  ...   \n",
       "...                     ...                 ...                 ...  ...   \n",
       "207411                  0.0                 0.0                 0.0  ...   \n",
       "207412                  0.0                 0.0                 0.0  ...   \n",
       "207413                  0.0                 0.0                 0.0  ...   \n",
       "207414                  0.0                 0.0                 0.0  ...   \n",
       "207415                  0.0                 0.0                 0.0  ...   \n",
       "\n",
       "        News__Stocks1  News__Dividends1  News__Corporate_Earnings1  \\\n",
       "0                 4.0               0.0                        0.0   \n",
       "1                 2.0               0.0                        2.0   \n",
       "2                 2.0               0.0                        0.0   \n",
       "3                 3.0               0.0                        0.0   \n",
       "4                17.0               0.0                        0.0   \n",
       "...               ...               ...                        ...   \n",
       "207411            2.0               0.0                        0.0   \n",
       "207412            3.0               0.0                        1.0   \n",
       "207413            0.0               0.0                        0.0   \n",
       "207414            1.0               0.0                        0.0   \n",
       "207415            1.0               0.0                        0.0   \n",
       "\n",
       "        News__Mergers__Acquisitions1  News__Store_Openings1  \\\n",
       "0                                0.0                    0.0   \n",
       "1                                1.0                    0.0   \n",
       "2                                2.0                    0.0   \n",
       "3                                3.0                    0.0   \n",
       "4                                1.0                    0.0   \n",
       "...                              ...                    ...   \n",
       "207411                           0.0                    0.0   \n",
       "207412                           0.0                    0.0   \n",
       "207413                           0.0                    0.0   \n",
       "207414                           0.0                    0.0   \n",
       "207415                           0.0                    0.0   \n",
       "\n",
       "        News__Product_Recalls1  News__Adverse_Events1  \\\n",
       "0                          0.0                    0.0   \n",
       "1                          0.0                    1.0   \n",
       "2                          0.0                    0.0   \n",
       "3                          0.0                    3.0   \n",
       "4                          0.0                    0.0   \n",
       "...                        ...                    ...   \n",
       "207411                     0.0                    2.0   \n",
       "207412                     0.0                    0.0   \n",
       "207413                     0.0                    0.0   \n",
       "207414                     0.0                    0.0   \n",
       "207415                     0.0                    1.0   \n",
       "\n",
       "        News__Personnel_Changes1  News__Stock_Rumors1        y1  \n",
       "0                            0.0                  0.0 -0.015933  \n",
       "1                            0.0                  0.0  0.011887  \n",
       "2                            1.0                  0.0 -0.000370  \n",
       "3                            0.0                  0.0  0.008688  \n",
       "4                            0.0                  0.0 -0.014234  \n",
       "...                          ...                  ...       ...  \n",
       "207411                       0.0                  0.0  0.058787  \n",
       "207412                       0.0                  0.0  0.061100  \n",
       "207413                       0.0                  0.0  0.034883  \n",
       "207414                       0.0                  0.0  0.007734  \n",
       "207415                       0.0                  0.0  0.009188  \n",
       "\n",
       "[207416 rows x 661 columns]"
      ]
     },
     "execution_count": 89,
     "metadata": {},
     "output_type": "execute_result"
    }
   ],
   "source": [
    "X"
   ]
  },
  {
   "cell_type": "code",
   "execution_count": 90,
   "metadata": {
    "pycharm": {
     "name": "#%%\n"
    }
   },
   "outputs": [],
   "source": [
    "from statsmodels.tsa.arima.model import ARIMA"
   ]
  },
  {
   "cell_type": "code",
   "execution_count": 96,
   "metadata": {
    "pycharm": {
     "name": "#%%\n"
    }
   },
   "outputs": [
    {
     "name": "stderr",
     "output_type": "stream",
     "text": [
      "C:\\Users\\stefa\\AppData\\Roaming\\Python\\Python311\\site-packages\\statsmodels\\base\\model.py:607: ConvergenceWarning: Maximum Likelihood optimization failed to converge. Check mle_retvals\n",
      "  warnings.warn(\"Maximum Likelihood optimization failed to \"\n"
     ]
    }
   ],
   "source": [
    "model = ARIMA(label, order=(2, 0, 0), exog=features.astype(float)).fit()"
   ]
  },
  {
   "cell_type": "code",
   "execution_count": 97,
   "metadata": {
    "pycharm": {
     "name": "#%%\n"
    }
   },
   "outputs": [],
   "source": [
    "model.save(\"trainedModel/arima_model.pkl\")"
   ]
  },
  {
   "cell_type": "code",
   "execution_count": 109,
   "metadata": {
    "pycharm": {
     "name": "#%%\n"
    }
   },
   "outputs": [],
   "source": [
    "from api import get_api"
   ]
  },
  {
   "cell_type": "code",
   "execution_count": 128,
   "metadata": {
    "pycharm": {
     "name": "#%%\n"
    }
   },
   "outputs": [],
   "source": [
    "features = features.astype(float)"
   ]
  },
  {
   "cell_type": "code",
   "execution_count": 138,
   "metadata": {
    "pycharm": {
     "name": "#%%\n"
    }
   },
   "outputs": [
    {
     "data": {
      "text/plain": [
       "(207416, 662)"
      ]
     },
     "execution_count": 138,
     "metadata": {},
     "output_type": "execute_result"
    }
   ],
   "source": [
    "npFeatures = numpy.array(features)\n",
    "npFeatures.shape"
   ]
  },
  {
   "cell_type": "code",
   "execution_count": 148,
   "metadata": {
    "pycharm": {
     "name": "#%%\n"
    }
   },
   "outputs": [
    {
     "data": {
      "text/plain": [
       "207416   -0.015932\n",
       "dtype: float64"
      ]
     },
     "execution_count": 148,
     "metadata": {},
     "output_type": "execute_result"
    }
   ],
   "source": [
    "\n",
    "model.forecast(steps=1,exog=features.iloc[0])"
   ]
  }
 ],
 "metadata": {
  "kernelspec": {
   "display_name": "Python 3",
   "language": "python",
   "name": "python3"
  },
  "language_info": {
   "codemirror_mode": {
    "name": "ipython",
    "version": 3
   },
   "file_extension": ".py",
   "mimetype": "text/x-python",
   "name": "python",
   "nbconvert_exporter": "python",
   "pygments_lexer": "ipython3",
   "version": "3.11.4"
  }
 },
 "nbformat": 4,
 "nbformat_minor": 2
}